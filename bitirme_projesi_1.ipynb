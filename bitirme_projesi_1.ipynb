{
  "nbformat": 4,
  "nbformat_minor": 0,
  "metadata": {
    "colab": {
      "name": "bitirme projesi 1",
      "provenance": [],
      "collapsed_sections": []
    },
    "kernelspec": {
      "name": "python3",
      "display_name": "Python 3"
    },
    "language_info": {
      "name": "python"
    }
  },
  "cells": [
    {
      "cell_type": "code",
      "source": [
        "import random as r\n",
        "karakterler = \"qwertyuıopasdfghjklzxcvbnmQWERTYUIOPASDFGHJKLZXCVBNMZ0123456789-_?/+é½}{!@#$%^&*()\"\n",
        "sifreler = []\n",
        "adet=int(input(\"Kaç Şifre Oluşturulacak - \"))\n",
        "\n",
        "for i in range(0,adet):\n",
        "    sifre = \"\"\n",
        "    for i in range(0,16):\n",
        "        sifre_eleman=r.choice(karakterler)\n",
        "        sifre += sifre_eleman\n",
        "    sifreler.append(sifre)\n",
        "\n",
        "for i in range(0,adet):\n",
        "    print(f\"{i+1}. sifre: \",sifreler[i])\n",
        "\n"
      ],
      "metadata": {
        "colab": {
          "base_uri": "https://localhost:8080/"
        },
        "id": "DBYkr-kRvVEy",
        "outputId": "08e09ac0-3bc8-4bcb-b231-a980f9b77af6"
      },
      "execution_count": 35,
      "outputs": [
        {
          "name": "stdout",
          "output_type": "stream",
          "text": [
            "Kaç Şifre Oluşturulacak - 0\n"
          ]
        }
      ]
    },
    {
      "cell_type": "code",
      "source": [
        ""
      ],
      "metadata": {
        "id": "XlyMVmZzv5H1"
      },
      "execution_count": null,
      "outputs": []
    }
  ]
}